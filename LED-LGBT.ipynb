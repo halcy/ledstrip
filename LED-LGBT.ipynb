{
 "cells": [
  {
   "cell_type": "code",
   "execution_count": 1,
   "metadata": {},
   "outputs": [],
   "source": [
    "%matplotlib inline\n",
    "\n",
    "import time\n",
    "import math\n",
    "import numpy as np\n",
    "import socket\n",
    "import struct\n",
    "import pyaudio\n",
    "import multiprocessing\n",
    "import requests\n",
    "\n",
    "import matplotlib.pyplot as plt\n",
    "\n",
    "LED_COUNT = 254\n",
    "SPLIT_LED = 254"
   ]
  },
  {
   "cell_type": "code",
   "execution_count": 2,
   "metadata": {},
   "outputs": [],
   "source": [
    "def wheel(pos):\n",
    "    \"\"\"Generate rainbow colors across 0-255 positions.\"\"\"\n",
    "    if pos < 85:\n",
    "        return np.array((pos * 3, 255 - pos * 3, 0))\n",
    "    elif pos < 170:\n",
    "        pos -= 85\n",
    "        return np.array((255 - pos * 3, 0, pos * 3))\n",
    "    else:\n",
    "        pos -= 170\n",
    "        return np.array((0, pos * 3, 255 - pos * 3))"
   ]
  },
  {
   "cell_type": "code",
   "execution_count": 6,
   "metadata": {},
   "outputs": [],
   "source": [
    "# rainbow flag\n",
    "lgbt = [\n",
    "    [255, 0, 0],\n",
    "    [255, 50, 0],\n",
    "    [255, 242, 0],\n",
    "    [3, 200, 41],\n",
    "    [0, 77, 150],\n",
    "    [120, 8, 137],\n",
    "]\n",
    "lgbt = np.array(lgbt, dtype=\"float32\")\n",
    "lgbt *= 0.9"
   ]
  },
  {
   "cell_type": "code",
   "execution_count": 10,
   "metadata": {},
   "outputs": [],
   "source": [
    "# trans flag\n",
    "lgbt = [\n",
    "    [0, 161, 232],\n",
    "    [255, 120, 150],\n",
    "    [210, 210, 210],\n",
    "    [255, 120, 150],\n",
    "    [0, 161, 232],\n",
    "]\n",
    "lgbt = np.array(lgbt, dtype=\"float32\")\n",
    "lgbt *= 0.5"
   ]
  },
  {
   "cell_type": "code",
   "execution_count": 11,
   "metadata": {},
   "outputs": [
    {
     "ename": "KeyboardInterrupt",
     "evalue": "",
     "output_type": "error",
     "traceback": [
      "\u001b[0;31m---------------------------------------------------------------------------\u001b[0m",
      "\u001b[0;31mKeyboardInterrupt\u001b[0m                         Traceback (most recent call last)",
      "\u001b[0;32m<ipython-input-11-c0a7e572b76a>\u001b[0m in \u001b[0;36m<module>\u001b[0;34m()\u001b[0m\n\u001b[1;32m     24\u001b[0m     \u001b[1;32mif\u001b[0m \u001b[0mpos\u001b[0m \u001b[1;33m>\u001b[0m \u001b[0mlen\u001b[0m\u001b[1;33m(\u001b[0m\u001b[0mlgbt\u001b[0m\u001b[1;33m)\u001b[0m \u001b[1;33m+\u001b[0m \u001b[1;36m50\u001b[0m\u001b[1;33m:\u001b[0m\u001b[1;33m\u001b[0m\u001b[0m\n\u001b[1;32m     25\u001b[0m         \u001b[0mpos\u001b[0m \u001b[1;33m=\u001b[0m \u001b[1;36m0\u001b[0m\u001b[1;33m\u001b[0m\u001b[0m\n\u001b[0;32m---> 26\u001b[0;31m     \u001b[0mtime\u001b[0m\u001b[1;33m.\u001b[0m\u001b[0msleep\u001b[0m\u001b[1;33m(\u001b[0m\u001b[1;36m0.25\u001b[0m\u001b[1;33m)\u001b[0m\u001b[1;33m\u001b[0m\u001b[0m\n\u001b[0m",
      "\u001b[0;31mKeyboardInterrupt\u001b[0m: "
     ]
    }
   ],
   "source": [
    "# Show and flicker the flag parts\n",
    "requests.get(\"http://10.1.1.105:9000/reset\")\n",
    "\n",
    "pos = 0\n",
    "while True:\n",
    "    updates = []\n",
    "    step = SPLIT_LED // len(lgbt)\n",
    "    for col in range(len(lgbt)):\n",
    "        mulf = 1.0\n",
    "        if pos == col:\n",
    "            mulf = 2.0\n",
    "        for i in range(col * step, (col + 1) * step):\n",
    "            #updates.append(int(i))\n",
    "            #updates.append(int(lgbt[col][0]))\n",
    "            #updates.append(int(lgbt[col][1]))\n",
    "            #updates.append(int(lgbt[col][2]))\n",
    "            updates.append(int(i))\n",
    "            updates.append(int(lgbt[col][0] * mulf + 20 * (mulf - 1.0)))\n",
    "            updates.append(int(lgbt[col][1] * mulf + 20 * (mulf - 1.0)))\n",
    "            updates.append(int(lgbt[col][2] * mulf + 20 * (mulf - 1.0)))\n",
    "    updates = \",\".join(list(map(str, updates)))\n",
    "    requests.post(\"http://10.1.1.105:9000/set_many\", params = {\"updates\": updates})\n",
    "    pos += 1\n",
    "    if pos > len(lgbt) + 50:\n",
    "        pos = 0\n",
    "    time.sleep(0.25)"
   ]
  },
  {
   "cell_type": "code",
   "execution_count": null,
   "metadata": {},
   "outputs": [],
   "source": []
  }
 ],
 "metadata": {
  "anaconda-cloud": {},
  "kernelspec": {
   "display_name": "Python [default]",
   "language": "python",
   "name": "python3"
  },
  "language_info": {
   "codemirror_mode": {
    "name": "ipython",
    "version": 3
   },
   "file_extension": ".py",
   "mimetype": "text/x-python",
   "name": "python",
   "nbconvert_exporter": "python",
   "pygments_lexer": "ipython3",
   "version": "3.5.5"
  }
 },
 "nbformat": 4,
 "nbformat_minor": 2
}
